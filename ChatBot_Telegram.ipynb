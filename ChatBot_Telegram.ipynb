{
 "cells": [
  {
   "cell_type": "code",
   "execution_count": 2,
   "id": "55156d38",
   "metadata": {},
   "outputs": [
    {
     "name": "stdout",
     "output_type": "stream",
     "text": [
      "Requirement already satisfied: python-telegram-bot in c:\\users\\lenovo\\appdata\\local\\programs\\python\\python310\\lib\\site-packages (20.3)\n",
      "Requirement already satisfied: httpx~=0.24.0 in c:\\users\\lenovo\\appdata\\local\\programs\\python\\python310\\lib\\site-packages (from python-telegram-bot) (0.24.1)\n",
      "Requirement already satisfied: certifi in c:\\users\\lenovo\\appdata\\local\\programs\\python\\python310\\lib\\site-packages (from httpx~=0.24.0->python-telegram-bot) (2022.9.14)\n",
      "Requirement already satisfied: httpcore<0.18.0,>=0.15.0 in c:\\users\\lenovo\\appdata\\local\\programs\\python\\python310\\lib\\site-packages (from httpx~=0.24.0->python-telegram-bot) (0.17.2)\n",
      "Requirement already satisfied: idna in c:\\users\\lenovo\\appdata\\local\\programs\\python\\python310\\lib\\site-packages (from httpx~=0.24.0->python-telegram-bot) (3.4)\n",
      "Requirement already satisfied: sniffio in c:\\users\\lenovo\\appdata\\local\\programs\\python\\python310\\lib\\site-packages (from httpx~=0.24.0->python-telegram-bot) (1.3.0)\n",
      "Requirement already satisfied: h11<0.15,>=0.13 in c:\\users\\lenovo\\appdata\\local\\programs\\python\\python310\\lib\\site-packages (from httpcore<0.18.0,>=0.15.0->httpx~=0.24.0->python-telegram-bot) (0.14.0)\n",
      "Requirement already satisfied: anyio<5.0,>=3.0 in c:\\users\\lenovo\\appdata\\local\\programs\\python\\python310\\lib\\site-packages (from httpcore<0.18.0,>=0.15.0->httpx~=0.24.0->python-telegram-bot) (3.7.0)\n",
      "Requirement already satisfied: exceptiongroup in c:\\users\\lenovo\\appdata\\local\\programs\\python\\python310\\lib\\site-packages (from anyio<5.0,>=3.0->httpcore<0.18.0,>=0.15.0->httpx~=0.24.0->python-telegram-bot) (1.1.1)\n"
     ]
    },
    {
     "name": "stderr",
     "output_type": "stream",
     "text": [
      "WARNING: Ignoring invalid distribution -ip (c:\\users\\lenovo\\appdata\\local\\programs\\python\\python310\\lib\\site-packages)\n",
      "WARNING: Ignoring invalid distribution -ip (c:\\users\\lenovo\\appdata\\local\\programs\\python\\python310\\lib\\site-packages)\n"
     ]
    }
   ],
   "source": [
    "!pip install python-telegram-bot\n"
   ]
  },
  {
   "cell_type": "code",
   "execution_count": 3,
   "id": "ef8a3578",
   "metadata": {},
   "outputs": [
    {
     "name": "stdout",
     "output_type": "stream",
     "text": [
      "Requirement already satisfied: nest_asyncio in c:\\users\\lenovo\\appdata\\local\\programs\\python\\python310\\lib\\site-packages (1.5.5)\n"
     ]
    },
    {
     "name": "stderr",
     "output_type": "stream",
     "text": [
      "WARNING: Ignoring invalid distribution -ip (c:\\users\\lenovo\\appdata\\local\\programs\\python\\python310\\lib\\site-packages)\n",
      "WARNING: Ignoring invalid distribution -ip (c:\\users\\lenovo\\appdata\\local\\programs\\python\\python310\\lib\\site-packages)\n"
     ]
    }
   ],
   "source": [
    "!pip install nest_asyncio\n"
   ]
  },
  {
   "cell_type": "code",
   "execution_count": 4,
   "id": "96c17a8c",
   "metadata": {},
   "outputs": [],
   "source": [
    "import nest_asyncio\n",
    "nest_asyncio.apply()\n"
   ]
  },
  {
   "cell_type": "code",
   "execution_count": null,
   "id": "b4dd5ac2",
   "metadata": {},
   "outputs": [
    {
     "name": "stdout",
     "output_type": "stream",
     "text": [
      "Starting Bot\n",
      "Polling the bot\n",
      "User (5952911399) in private: \"/sentiment\"\n",
      "Bot: I do not understand what you wrote...\n",
      "User (5952911399) in private: \"/sentiment\"\n",
      "Bot: I do not understand what you wrote...\n"
     ]
    },
    {
     "name": "stderr",
     "output_type": "stream",
     "text": [
      "Error while getting Updates: httpx.ConnectError: [Errno 11001] getaddrinfo failed\n"
     ]
    },
    {
     "name": "stdout",
     "output_type": "stream",
     "text": [
      "Update None caused error httpx.ConnectError: [Errno 11001] getaddrinfo failed\n"
     ]
    },
    {
     "name": "stderr",
     "output_type": "stream",
     "text": [
      "Error while getting Updates: httpx.ConnectError: [Errno 11001] getaddrinfo failed\n"
     ]
    },
    {
     "name": "stdout",
     "output_type": "stream",
     "text": [
      "Update None caused error httpx.ConnectError: [Errno 11001] getaddrinfo failed\n"
     ]
    },
    {
     "name": "stderr",
     "output_type": "stream",
     "text": [
      "Error while getting Updates: httpx.ConnectError: [Errno 11001] getaddrinfo failed\n"
     ]
    },
    {
     "name": "stdout",
     "output_type": "stream",
     "text": [
      "Update None caused error httpx.ConnectError: [Errno 11001] getaddrinfo failed\n"
     ]
    },
    {
     "name": "stderr",
     "output_type": "stream",
     "text": [
      "Error while getting Updates: httpx.ConnectError: [Errno 11001] getaddrinfo failed\n"
     ]
    },
    {
     "name": "stdout",
     "output_type": "stream",
     "text": [
      "Update None caused error httpx.ConnectError: [Errno 11001] getaddrinfo failed\n"
     ]
    }
   ],
   "source": [
    "from typing import Final\n",
    "from telegram import Update\n",
    "from telegram.ext import Application, CommandHandler, MessageHandler, filters, ContextTypes\n",
    "import asyncio\n",
    "import nest_asyncio\n",
    "\n",
    "TOKEN: Final = '6220478153:AAH68R7Iryw7oKGn285q75dCIXvI2MYgzNg'\n",
    "BOT_USERNAME: Final = '@Meetinginfo_bot'\n",
    "\n",
    "\n",
    "# Set of Commands for the Bot\n",
    "async def start_command(update: Update, context: ContextTypes.DEFAULT_TYPE):\n",
    "    await update.message.reply_text('Hello, Thanks for chatting with me! I am a Meetinginfo_bot')\n",
    "\n",
    "\n",
    "async def help_command(update: Update, context: ContextTypes.DEFAULT_TYPE):\n",
    "    await update.message.reply_text(\n",
    "        'I can solve all your queries regarding the previous meetings, provide a catalog as per your requirements and also provide solutions based on problems discussed in the meeting.')\n",
    "\n",
    "\n",
    "async def custom_command(update: Update, context: ContextTypes.DEFAULT_TYPE):\n",
    "    await update.message.reply_text('This is a custom command!')\n",
    "\n",
    "\n",
    "# Response Handling\n",
    "def handle_response(text: str) -> str:\n",
    "    processed: str = text.lower()\n",
    "\n",
    "    if 'hello' in processed:\n",
    "        return 'Hey there!'\n",
    "\n",
    "    if 'how are you' in processed:\n",
    "        return 'I am good!'\n",
    "\n",
    "    if 'Can you solve my queries' in processed:\n",
    "        return 'Sure, please ask the question.'\n",
    "\n",
    "    return 'I do not understand what you wrote...'\n",
    "\n",
    "\n",
    "# Handling Messages\n",
    "async def handle_messages(update: Update, context: ContextTypes.DEFAULT_TYPE):\n",
    "    message_type: str = update.message.chat.type\n",
    "    text: str = update.message.text\n",
    "\n",
    "    print(f'User ({update.message.chat.id}) in {message_type}: \"{text}\"')\n",
    "\n",
    "    if message_type == 'group':\n",
    "        if BOT_USERNAME in text:\n",
    "            new_text: str = text.replace(BOT_USERNAME, '').strip()\n",
    "            response: str = handle_response(new_text)\n",
    "        else:\n",
    "            return\n",
    "    else:\n",
    "        response: str = handle_response(text)\n",
    "\n",
    "    print('Bot:', response)\n",
    "    await update.message.reply_text(response)\n",
    "\n",
    "\n",
    "async def error(update: Update, context: ContextTypes.DEFAULT_TYPE):\n",
    "    print(f'Update {update} caused error {context.error}')\n",
    "\n",
    "\n",
    "async def run_bot():\n",
    "    print('Starting Bot')\n",
    "    app = Application.builder().token(TOKEN).build()\n",
    "\n",
    "    # Commands\n",
    "    app.add_handler(CommandHandler('start', start_command))\n",
    "    app.add_handler(CommandHandler('help', help_command))\n",
    "    app.add_handler(CommandHandler('custom', custom_command))\n",
    "\n",
    "    # Messages\n",
    "    app.add_handler(MessageHandler(filters.TEXT, handle_messages))\n",
    "\n",
    "    # Errors\n",
    "    app.add_error_handler(error)\n",
    "\n",
    "    # Polls the bot\n",
    "    print('Polling the bot')\n",
    "    await app.run_polling(poll_interval=5)\n",
    "\n",
    "\n",
    "if __name__ == '__main__':\n",
    "    nest_asyncio.apply()\n",
    "    asyncio.get_event_loop().run_until_complete(run_bot())\n"
   ]
  },
  {
   "cell_type": "code",
   "execution_count": null,
   "id": "30b3dad7",
   "metadata": {},
   "outputs": [],
   "source": [
    "#Bot that performs Sentiment Analysis\n",
    "\n",
    "\n",
    "from typing import Final\n",
    "from telegram import Update\n",
    "from telegram.ext import Application, CommandHandler, MessageHandler, filters, ContextTypes\n",
    "import asyncio\n",
    "import nest_asyncio\n",
    "\n",
    "TOKEN: Final = '6220478153:AAH68R7Iryw7oKGn285q75dCIXvI2MYgzNg'\n",
    "BOT_USERNAME: Final = '@Meetinginfo_bot'\n",
    "\n",
    "\n",
    "# Set of Commands for the Bot\n",
    "async def start_command(update: Update, context: ContextTypes.DEFAULT_TYPE):\n",
    "    await update.message.reply_text('Hello, Thanks for chatting with me! I am a Meetinginfo_bot')\n",
    "\n",
    "\n",
    "async def help_command(update: Update, context: ContextTypes.DEFAULT_TYPE):\n",
    "    await update.message.reply_text(\n",
    "        'I can solve all your queries regarding the previous meetings, provide a catalog as per your requirements and also provide solutions based on problems discussed in the meeting.')\n",
    "\n",
    "\n",
    "async def custom_command(update: Update, context: ContextTypes.DEFAULT_TYPE):\n",
    "    await update.message.reply_text('This is a custom command!')\n",
    "\n",
    "\n",
    "# Response Handling\n",
    "def handle_response(text: str) -> str:\n",
    "    processed: str = text.lower()\n",
    "\n",
    "    if 'hello' in processed:\n",
    "        return 'Hey there!'\n",
    "\n",
    "    if 'how are you' in processed:\n",
    "        return 'I am good!'\n",
    "\n",
    "    if 'Can you solve my queries' in processed:\n",
    "        return 'Sure, please ask the question.'\n",
    "\n",
    "    return 'I do not understand what you wrote...'\n",
    "\n",
    "#Sentiment Analysis\n",
    "\n",
    "def sentiment_command(update: Update, context: ContextTypes.DEFAULT_TYPE):\n",
    "    messages = ' '.join(context.args)\n",
    "    sentiment_score = sia.polarity_scores(message)\n",
    "    compound_score = sentiment_score['compound']\n",
    "    \n",
    "    if compound_score >= 0.05:\n",
    "        sentiment = 'Positive'\n",
    "    elif compound_score <= -0.05:\n",
    "        sentiment = 'Negative'\n",
    "    else:\n",
    "        sentiment = 'Neutral'\n",
    "\n",
    "    await update.message.reply_text(f'Sentiment Analysis Result:\\n'\n",
    "                                    f'Message: {message}\\n'\n",
    "                                    f'Sentiment: {sentiment}\\n'\n",
    "                                    f'Compound Score: {compound_score}')\n",
    "\n",
    "\n",
    "# Handling Messages\n",
    "async def handle_messages(update: Update, context: ContextTypes.DEFAULT_TYPE):\n",
    "    message_type: str = update.message.chat.type\n",
    "    text: str = update.message.text\n",
    "\n",
    "    print(f'User ({update.message.chat.id}) in {message_type}: \"{text}\"')\n",
    "\n",
    "    if message_type == 'group':\n",
    "        if BOT_USERNAME in text:\n",
    "            new_text: str = text.replace(BOT_USERNAME, '').strip()\n",
    "            response: str = handle_response(new_text)\n",
    "        else:\n",
    "            return\n",
    "    else:\n",
    "        response: str = handle_response(text)\n",
    "\n",
    "    print('Bot:', response)\n",
    "    await update.message.reply_text(response)\n",
    "\n",
    "\n",
    "async def error(update: Update, context: ContextTypes.DEFAULT_TYPE):\n",
    "    print(f'Update {update} caused error {context.error}')\n",
    "\n",
    "\n",
    "async def run_bot():\n",
    "    print('Starting Bot')\n",
    "    app = Application.builder().token(TOKEN).build()\n",
    "\n",
    "    # Commands\n",
    "    app.add_handler(CommandHandler('start', start_command))\n",
    "    app.add_handler(CommandHandler('help', help_command))\n",
    "    app.add_handler(CommandHandler('custom', custom_command))\n",
    "\n",
    "    # Messages\n",
    "    app.add_handler(MessageHandler(filters.TEXT, handle_messages))\n",
    "\n",
    "    # Errors\n",
    "    app.add_error_handler(error)\n",
    "\n",
    "    # Polls the bot\n",
    "    print('Polling the bot')\n",
    "    await app.run_polling(poll_interval=5)\n",
    "\n",
    "\n",
    "if __name__ == '__main__':\n",
    "    nest_asyncio.apply()\n",
    "    asyncio.get_event_loop().run_until_complete(run_bot())\n"
   ]
  },
  {
   "cell_type": "code",
   "execution_count": 1,
   "id": "e236b38a",
   "metadata": {},
   "outputs": [
    {
     "ename": "LookupError",
     "evalue": "\n**********************************************************************\n  Resource \u001b[93mvader_lexicon\u001b[0m not found.\n  Please use the NLTK Downloader to obtain the resource:\n\n  \u001b[31m>>> import nltk\n  >>> nltk.download('vader_lexicon')\n  \u001b[0m\n  For more information see: https://www.nltk.org/data.html\n\n  Attempted to load \u001b[93msentiment/vader_lexicon.zip/vader_lexicon/vader_lexicon.txt\u001b[0m\n\n  Searched in:\n    - 'C:\\\\Users\\\\Lenovo/nltk_data'\n    - 'C:\\\\Users\\\\Lenovo\\\\AppData\\\\Local\\\\Programs\\\\Python\\\\Python310\\\\nltk_data'\n    - 'C:\\\\Users\\\\Lenovo\\\\AppData\\\\Local\\\\Programs\\\\Python\\\\Python310\\\\share\\\\nltk_data'\n    - 'C:\\\\Users\\\\Lenovo\\\\AppData\\\\Local\\\\Programs\\\\Python\\\\Python310\\\\lib\\\\nltk_data'\n    - 'C:\\\\Users\\\\Lenovo\\\\AppData\\\\Roaming\\\\nltk_data'\n    - 'C:\\\\nltk_data'\n    - 'D:\\\\nltk_data'\n    - 'E:\\\\nltk_data'\n    - ''\n**********************************************************************\n",
     "output_type": "error",
     "traceback": [
      "\u001b[1;31m---------------------------------------------------------------------------\u001b[0m",
      "\u001b[1;31mLookupError\u001b[0m                               Traceback (most recent call last)",
      "Cell \u001b[1;32mIn [1], line 12\u001b[0m\n\u001b[0;32m      9\u001b[0m BOT_USERNAME: Final \u001b[38;5;241m=\u001b[39m \u001b[38;5;124m'\u001b[39m\u001b[38;5;124m@Meetinginfo_bot\u001b[39m\u001b[38;5;124m'\u001b[39m\n\u001b[0;32m     11\u001b[0m \u001b[38;5;66;03m# Initialize the sentiment analyzer\u001b[39;00m\n\u001b[1;32m---> 12\u001b[0m sia \u001b[38;5;241m=\u001b[39m \u001b[43mSentimentIntensityAnalyzer\u001b[49m\u001b[43m(\u001b[49m\u001b[43m)\u001b[49m\n\u001b[0;32m     15\u001b[0m \u001b[38;5;66;03m# Set of Commands for the Bot\u001b[39;00m\n\u001b[0;32m     16\u001b[0m \u001b[38;5;28;01masync\u001b[39;00m \u001b[38;5;28;01mdef\u001b[39;00m \u001b[38;5;21mstart_command\u001b[39m(update: Update, context: ContextTypes\u001b[38;5;241m.\u001b[39mDEFAULT_TYPE):\n",
      "File \u001b[1;32m~\\AppData\\Local\\Programs\\Python\\Python310\\lib\\site-packages\\nltk\\sentiment\\vader.py:340\u001b[0m, in \u001b[0;36mSentimentIntensityAnalyzer.__init__\u001b[1;34m(self, lexicon_file)\u001b[0m\n\u001b[0;32m    336\u001b[0m \u001b[38;5;28;01mdef\u001b[39;00m \u001b[38;5;21m__init__\u001b[39m(\n\u001b[0;32m    337\u001b[0m     \u001b[38;5;28mself\u001b[39m,\n\u001b[0;32m    338\u001b[0m     lexicon_file\u001b[38;5;241m=\u001b[39m\u001b[38;5;124m\"\u001b[39m\u001b[38;5;124msentiment/vader_lexicon.zip/vader_lexicon/vader_lexicon.txt\u001b[39m\u001b[38;5;124m\"\u001b[39m,\n\u001b[0;32m    339\u001b[0m ):\n\u001b[1;32m--> 340\u001b[0m     \u001b[38;5;28mself\u001b[39m\u001b[38;5;241m.\u001b[39mlexicon_file \u001b[38;5;241m=\u001b[39m \u001b[43mnltk\u001b[49m\u001b[38;5;241;43m.\u001b[39;49m\u001b[43mdata\u001b[49m\u001b[38;5;241;43m.\u001b[39;49m\u001b[43mload\u001b[49m\u001b[43m(\u001b[49m\u001b[43mlexicon_file\u001b[49m\u001b[43m)\u001b[49m\n\u001b[0;32m    341\u001b[0m     \u001b[38;5;28mself\u001b[39m\u001b[38;5;241m.\u001b[39mlexicon \u001b[38;5;241m=\u001b[39m \u001b[38;5;28mself\u001b[39m\u001b[38;5;241m.\u001b[39mmake_lex_dict()\n\u001b[0;32m    342\u001b[0m     \u001b[38;5;28mself\u001b[39m\u001b[38;5;241m.\u001b[39mconstants \u001b[38;5;241m=\u001b[39m VaderConstants()\n",
      "File \u001b[1;32m~\\AppData\\Local\\Programs\\Python\\Python310\\lib\\site-packages\\nltk\\data.py:750\u001b[0m, in \u001b[0;36mload\u001b[1;34m(resource_url, format, cache, verbose, logic_parser, fstruct_reader, encoding)\u001b[0m\n\u001b[0;32m    747\u001b[0m     \u001b[38;5;28mprint\u001b[39m(\u001b[38;5;124mf\u001b[39m\u001b[38;5;124m\"\u001b[39m\u001b[38;5;124m<<Loading \u001b[39m\u001b[38;5;132;01m{\u001b[39;00mresource_url\u001b[38;5;132;01m}\u001b[39;00m\u001b[38;5;124m>>\u001b[39m\u001b[38;5;124m\"\u001b[39m)\n\u001b[0;32m    749\u001b[0m \u001b[38;5;66;03m# Load the resource.\u001b[39;00m\n\u001b[1;32m--> 750\u001b[0m opened_resource \u001b[38;5;241m=\u001b[39m \u001b[43m_open\u001b[49m\u001b[43m(\u001b[49m\u001b[43mresource_url\u001b[49m\u001b[43m)\u001b[49m\n\u001b[0;32m    752\u001b[0m \u001b[38;5;28;01mif\u001b[39;00m \u001b[38;5;28mformat\u001b[39m \u001b[38;5;241m==\u001b[39m \u001b[38;5;124m\"\u001b[39m\u001b[38;5;124mraw\u001b[39m\u001b[38;5;124m\"\u001b[39m:\n\u001b[0;32m    753\u001b[0m     resource_val \u001b[38;5;241m=\u001b[39m opened_resource\u001b[38;5;241m.\u001b[39mread()\n",
      "File \u001b[1;32m~\\AppData\\Local\\Programs\\Python\\Python310\\lib\\site-packages\\nltk\\data.py:876\u001b[0m, in \u001b[0;36m_open\u001b[1;34m(resource_url)\u001b[0m\n\u001b[0;32m    873\u001b[0m protocol, path_ \u001b[38;5;241m=\u001b[39m split_resource_url(resource_url)\n\u001b[0;32m    875\u001b[0m \u001b[38;5;28;01mif\u001b[39;00m protocol \u001b[38;5;129;01mis\u001b[39;00m \u001b[38;5;28;01mNone\u001b[39;00m \u001b[38;5;129;01mor\u001b[39;00m protocol\u001b[38;5;241m.\u001b[39mlower() \u001b[38;5;241m==\u001b[39m \u001b[38;5;124m\"\u001b[39m\u001b[38;5;124mnltk\u001b[39m\u001b[38;5;124m\"\u001b[39m:\n\u001b[1;32m--> 876\u001b[0m     \u001b[38;5;28;01mreturn\u001b[39;00m \u001b[43mfind\u001b[49m\u001b[43m(\u001b[49m\u001b[43mpath_\u001b[49m\u001b[43m,\u001b[49m\u001b[43m \u001b[49m\u001b[43mpath\u001b[49m\u001b[43m \u001b[49m\u001b[38;5;241;43m+\u001b[39;49m\u001b[43m \u001b[49m\u001b[43m[\u001b[49m\u001b[38;5;124;43m\"\u001b[39;49m\u001b[38;5;124;43m\"\u001b[39;49m\u001b[43m]\u001b[49m\u001b[43m)\u001b[49m\u001b[38;5;241m.\u001b[39mopen()\n\u001b[0;32m    877\u001b[0m \u001b[38;5;28;01melif\u001b[39;00m protocol\u001b[38;5;241m.\u001b[39mlower() \u001b[38;5;241m==\u001b[39m \u001b[38;5;124m\"\u001b[39m\u001b[38;5;124mfile\u001b[39m\u001b[38;5;124m\"\u001b[39m:\n\u001b[0;32m    878\u001b[0m     \u001b[38;5;66;03m# urllib might not use mode='rb', so handle this one ourselves:\u001b[39;00m\n\u001b[0;32m    879\u001b[0m     \u001b[38;5;28;01mreturn\u001b[39;00m find(path_, [\u001b[38;5;124m\"\u001b[39m\u001b[38;5;124m\"\u001b[39m])\u001b[38;5;241m.\u001b[39mopen()\n",
      "File \u001b[1;32m~\\AppData\\Local\\Programs\\Python\\Python310\\lib\\site-packages\\nltk\\data.py:583\u001b[0m, in \u001b[0;36mfind\u001b[1;34m(resource_name, paths)\u001b[0m\n\u001b[0;32m    581\u001b[0m sep \u001b[38;5;241m=\u001b[39m \u001b[38;5;124m\"\u001b[39m\u001b[38;5;124m*\u001b[39m\u001b[38;5;124m\"\u001b[39m \u001b[38;5;241m*\u001b[39m \u001b[38;5;241m70\u001b[39m\n\u001b[0;32m    582\u001b[0m resource_not_found \u001b[38;5;241m=\u001b[39m \u001b[38;5;124mf\u001b[39m\u001b[38;5;124m\"\u001b[39m\u001b[38;5;130;01m\\n\u001b[39;00m\u001b[38;5;132;01m{\u001b[39;00msep\u001b[38;5;132;01m}\u001b[39;00m\u001b[38;5;130;01m\\n\u001b[39;00m\u001b[38;5;132;01m{\u001b[39;00mmsg\u001b[38;5;132;01m}\u001b[39;00m\u001b[38;5;130;01m\\n\u001b[39;00m\u001b[38;5;132;01m{\u001b[39;00msep\u001b[38;5;132;01m}\u001b[39;00m\u001b[38;5;130;01m\\n\u001b[39;00m\u001b[38;5;124m\"\u001b[39m\n\u001b[1;32m--> 583\u001b[0m \u001b[38;5;28;01mraise\u001b[39;00m \u001b[38;5;167;01mLookupError\u001b[39;00m(resource_not_found)\n",
      "\u001b[1;31mLookupError\u001b[0m: \n**********************************************************************\n  Resource \u001b[93mvader_lexicon\u001b[0m not found.\n  Please use the NLTK Downloader to obtain the resource:\n\n  \u001b[31m>>> import nltk\n  >>> nltk.download('vader_lexicon')\n  \u001b[0m\n  For more information see: https://www.nltk.org/data.html\n\n  Attempted to load \u001b[93msentiment/vader_lexicon.zip/vader_lexicon/vader_lexicon.txt\u001b[0m\n\n  Searched in:\n    - 'C:\\\\Users\\\\Lenovo/nltk_data'\n    - 'C:\\\\Users\\\\Lenovo\\\\AppData\\\\Local\\\\Programs\\\\Python\\\\Python310\\\\nltk_data'\n    - 'C:\\\\Users\\\\Lenovo\\\\AppData\\\\Local\\\\Programs\\\\Python\\\\Python310\\\\share\\\\nltk_data'\n    - 'C:\\\\Users\\\\Lenovo\\\\AppData\\\\Local\\\\Programs\\\\Python\\\\Python310\\\\lib\\\\nltk_data'\n    - 'C:\\\\Users\\\\Lenovo\\\\AppData\\\\Roaming\\\\nltk_data'\n    - 'C:\\\\nltk_data'\n    - 'D:\\\\nltk_data'\n    - 'E:\\\\nltk_data'\n    - ''\n**********************************************************************\n"
     ]
    }
   ],
   "source": [
    "import nltk\n",
    "nltk.download('vader_lexicon')\n",
    "from typing import Final\n",
    "from telegram import Update\n",
    "from telegram.ext import Application, CommandHandler, MessageHandler, filters, ContextTypes\n",
    "import asyncio\n",
    "import nest_asyncio\n",
    "from nltk.sentiment import SentimentIntensityAnalyzer\n",
    "\n",
    "TOKEN: Final = '6220478153:AAH68R7Iryw7oKGn285q75dCIXvI2MYgzNg'\n",
    "BOT_USERNAME: Final = '@Meetinginfo_bot'\n",
    "\n",
    "# Initialize the sentiment analyzer\n",
    "sia = SentimentIntensityAnalyzer()\n",
    "\n",
    "\n",
    "# Set of Commands for the Bot\n",
    "async def start_command(update: Update, context: ContextTypes.DEFAULT_TYPE):\n",
    "    await update.message.reply_text('Hello, Thanks for chatting with me! I am a Chatbot.')\n",
    "\n",
    "\n",
    "async def help_command(update: Update, context: ContextTypes.DEFAULT_TYPE):\n",
    "    await update.message.reply_text(\n",
    "        'I can assist you with different features. Here are some available commands:\\n'\n",
    "        '/start - Start the chat\\n'\n",
    "        '/help - Show the available commands\\n'\n",
    "        '/sentiment <message> - Analyze the sentiment of the message'\n",
    "    )\n",
    "\n",
    "\n",
    "async def sentiment_command(update: Update, context: ContextTypes.DEFAULT_TYPE):\n",
    "    message = ' '.join(context.args)\n",
    "    sentiment_score = sia.polarity_scores(message)\n",
    "    compound_score = sentiment_score['compound']\n",
    "\n",
    "    if compound_score >= 0.05:\n",
    "        sentiment = 'Positive'\n",
    "    elif compound_score <= -0.05:\n",
    "        sentiment = 'Negative'\n",
    "    else:\n",
    "        sentiment = 'Neutral'\n",
    "\n",
    "    await update.message.reply_text(f'Sentiment Analysis Result:\\n'\n",
    "                                    f'Message: {message}\\n'\n",
    "                                    f'Sentiment: {sentiment}\\n'\n",
    "                                    f'Compound Score: {compound_score}')\n",
    "\n",
    "\n",
    "# Handling Messages\n",
    "async def handle_messages(update: Update, context: ContextTypes.DEFAULT_TYPE):\n",
    "    message_type: str = update.message.chat.type\n",
    "    text: str = update.message.text\n",
    "\n",
    "    print(f'User ({update.message.chat.id}) in {message_type}: \"{text}\"')\n",
    "\n",
    "    # Implement your own NLP logic here based on the user's message\n",
    "\n",
    "    # Example: Sentiment Analysis\n",
    "    sentiment_score = sia.polarity_scores(text)\n",
    "    compound_score = sentiment_score['compound']\n",
    "\n",
    "    if compound_score >= 0.05:\n",
    "        sentiment = 'Positive'\n",
    "    elif compound_score <= -0.05:\n",
    "        sentiment = 'Negative'\n",
    "    else:\n",
    "        sentiment = 'Neutral'\n",
    "\n",
    "    print(f'Sentiment Analysis Result:\\n'\n",
    "          f'Message: {text}\\n'\n",
    "          f'Sentiment: {sentiment}\\n'\n",
    "          f'Compound Score: {compound_score}')\n",
    "\n",
    "    \n",
    "\n",
    "    await update.message.reply_text('Your NLP-based response')\n",
    "\n",
    "\n",
    "async def error(update: Update, context: ContextTypes.DEFAULT_TYPE):\n",
    "    print(f'Update {update} caused error {context.error}')\n",
    "\n",
    "\n",
    "async def run_bot():\n",
    "    print('Starting Bot')\n",
    "    app = Application.builder().token(TOKEN).build()\n",
    "\n",
    "    # Commands\n",
    "    app.add_handler(CommandHandler('start', start_command))\n",
    "    app.add_handler(CommandHandler('help', help_command))\n",
    "    app.add_handler(CommandHandler('sentiment', sentiment_command))\n",
    "\n",
    "    # Messages\n",
    "    app.add_handler(MessageHandler(filters.TEXT, handle_messages))\n",
    "\n",
    "    # Errors\n",
    "    app.add_error_handler(error)\n",
    "\n",
    "    # Polls the bot\n",
    "    print('Polling the bot')\n",
    "    await app.run_polling(poll_interval=5)\n",
    "\n",
    "\n",
    "if __name__ == '__main__':\n",
    "    nest_asyncio.apply()\n",
    "    asyncio.get_event_loop().run_until_complete(run_bot())\n"
   ]
  },
  {
   "cell_type": "code",
   "execution_count": null,
   "id": "73c1cd7e",
   "metadata": {},
   "outputs": [],
   "source": []
  }
 ],
 "metadata": {
  "kernelspec": {
   "display_name": "Python 3 (ipykernel)",
   "language": "python",
   "name": "python3"
  },
  "language_info": {
   "codemirror_mode": {
    "name": "ipython",
    "version": 3
   },
   "file_extension": ".py",
   "mimetype": "text/x-python",
   "name": "python",
   "nbconvert_exporter": "python",
   "pygments_lexer": "ipython3",
   "version": "3.10.7"
  }
 },
 "nbformat": 4,
 "nbformat_minor": 5
}
